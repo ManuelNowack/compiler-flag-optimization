{
 "cells": [
  {
   "cell_type": "code",
   "execution_count": 10,
   "metadata": {},
   "outputs": [],
   "source": [
    "import glob\n",
    "import pandas as pd"
   ]
  },
  {
   "cell_type": "code",
   "execution_count": 11,
   "metadata": {},
   "outputs": [],
   "source": [
    "data_random = []\n",
    "data_fourier = []\n",
    "for file in glob.glob(f\"../evaluation/random/n_020_budget_0500_??.csv\"):\n",
    "    df = pd.read_csv(file, index_col=0).transpose()\n",
    "    data_random.append(df[\"RandomTuner\"])\n",
    "for file in glob.glob(f\"../evaluation/active_fourier/n_020_budget_0500_??.csv\"):\n",
    "    df = pd.read_csv(file, index_col=0).transpose()\n",
    "    data_fourier.append(df[\"ActiveFourier\"])\n",
    "random = pd.DataFrame(data_random)\n",
    "fourier = pd.DataFrame(data_fourier)\n",
    "speedup = random.mean() / fourier.mean()"
   ]
  },
  {
   "cell_type": "code",
   "execution_count": 12,
   "metadata": {},
   "outputs": [
    {
     "data": {
      "text/plain": [
       "(47, 59)"
      ]
     },
     "execution_count": 12,
     "metadata": {},
     "output_type": "execute_result"
    }
   ],
   "source": [
    "(speedup > 1.0).sum(), len(speedup)"
   ]
  }
 ],
 "metadata": {
  "kernelspec": {
   "display_name": "Python 3.9.7 ('base')",
   "language": "python",
   "name": "python3"
  },
  "language_info": {
   "codemirror_mode": {
    "name": "ipython",
    "version": 3
   },
   "file_extension": ".py",
   "mimetype": "text/x-python",
   "name": "python",
   "nbconvert_exporter": "python",
   "pygments_lexer": "ipython3",
   "version": "3.9.7"
  },
  "orig_nbformat": 4,
  "vscode": {
   "interpreter": {
    "hash": "fa658e60ef6a7b9b249dd17cf59d474856e42949519070ff24e17083b6259c34"
   }
  }
 },
 "nbformat": 4,
 "nbformat_minor": 2
}
