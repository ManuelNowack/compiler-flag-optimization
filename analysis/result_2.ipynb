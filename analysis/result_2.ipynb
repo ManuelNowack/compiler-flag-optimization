{
 "cells": [
  {
   "cell_type": "code",
   "execution_count": 13,
   "metadata": {},
   "outputs": [],
   "source": [
    "import glob\n",
    "import pandas as pd"
   ]
  },
  {
   "cell_type": "code",
   "execution_count": 14,
   "metadata": {},
   "outputs": [],
   "source": [
    "data_random = []\n",
    "data_fourier = []\n",
    "for file in glob.glob(f\"../evaluation/random/n_020_budget_0500_??.csv\"):\n",
    "    df = pd.read_csv(file, index_col=0).transpose()\n",
    "    data_random.append(df[\"RandomTuner\"])\n",
    "for file in glob.glob(f\"../evaluation/active_fourier/n_020_budget_0500_??.csv\"):\n",
    "    df = pd.read_csv(file, index_col=0).transpose()\n",
    "    data_fourier.append(df[\"ActiveFourier\"])\n",
    "random = pd.DataFrame(data_random)\n",
    "fourier = pd.DataFrame(data_fourier)\n",
    "speedup = random.mean() / fourier.mean()"
   ]
  },
  {
   "cell_type": "code",
   "execution_count": 15,
   "metadata": {},
   "outputs": [
    {
     "data": {
      "text/plain": [
       "cbench-automotive-bitcount:number-0001:             1.001606\n",
       "cbench-automotive-qsort1:cdataset-qsort-0001:       1.000185\n",
       "cbench-automotive-qsort1:cdataset-qsort-0005:       1.003432\n",
       "cbench-automotive-qsort1:cdataset-qsort-0009:       0.998361\n",
       "cbench-automotive-qsort1:cdataset-qsort-0013:       1.002487\n",
       "cbench-automotive-qsort1:cdataset-qsort-0017:       0.999163\n",
       "cbench-automotive-qsort1:cdataset-qsort-0020:       1.002016\n",
       "cbench-automotive-susan:image-pgm-0001:corners      0.993455\n",
       "cbench-automotive-susan:image-pgm-0005:corners      0.999218\n",
       "cbench-automotive-susan:image-pgm-0009:corners      0.997379\n",
       "cbench-automotive-susan:image-pgm-0013:corners      1.001209\n",
       "cbench-automotive-susan:image-pgm-0017:corners      1.001323\n",
       "cbench-automotive-susan:image-pgm-0020:corners      1.000328\n",
       "cbench-automotive-susan:image-pgm-0001:edges        1.004254\n",
       "cbench-automotive-susan:image-pgm-0005:edges        1.003030\n",
       "cbench-automotive-susan:image-pgm-0009:edges        1.003601\n",
       "cbench-automotive-susan:image-pgm-0013:edges        1.005629\n",
       "cbench-automotive-susan:image-pgm-0017:edges        1.002312\n",
       "cbench-automotive-susan:image-pgm-0020:edges        1.005048\n",
       "cbench-automotive-susan:image-pgm-0001:smoothing    1.001532\n",
       "cbench-automotive-susan:image-pgm-0005:smoothing    1.001701\n",
       "cbench-automotive-susan:image-pgm-0009:smoothing    1.002164\n",
       "cbench-automotive-susan:image-pgm-0013:smoothing    1.001680\n",
       "cbench-automotive-susan:image-pgm-0017:smoothing    1.003319\n",
       "cbench-automotive-susan:image-pgm-0020:smoothing    1.001717\n",
       "cbench-network-dijkstra:cdataset-dijkstra-0001:     1.027766\n",
       "cbench-network-dijkstra:cdataset-dijkstra-0005:     1.033165\n",
       "cbench-network-dijkstra:cdataset-dijkstra-0009:     1.031030\n",
       "cbench-network-dijkstra:cdataset-dijkstra-0013:     1.026990\n",
       "cbench-network-patricia:cdataset-patricia-0001:     0.995036\n",
       "cbench-network-patricia:cdataset-patricia-0005:     0.999813\n",
       "cbench-network-patricia:cdataset-patricia-0009:     1.003497\n",
       "cbench-network-patricia:cdataset-patricia-0013:     1.006286\n",
       "cbench-network-patricia:cdataset-patricia-0017:     1.001415\n",
       "cbench-network-patricia:cdataset-patricia-0020:     1.000067\n",
       "cbench-telecom-adpcm-c:pcm-0001:                    0.999788\n",
       "cbench-telecom-adpcm-c:pcm-0005:                    1.000469\n",
       "cbench-telecom-adpcm-c:pcm-0009:                    1.001507\n",
       "cbench-telecom-adpcm-c:pcm-0013:                    1.001136\n",
       "cbench-telecom-adpcm-c:pcm-0017:                    1.000434\n",
       "cbench-telecom-adpcm-c:pcm-0020:                    1.000692\n",
       "cbench-telecom-adpcm-d:adpcm-0001:                  1.000235\n",
       "cbench-telecom-adpcm-d:adpcm-0005:                  0.999589\n",
       "cbench-telecom-adpcm-d:adpcm-0009:                  0.999936\n",
       "cbench-telecom-adpcm-d:adpcm-0013:                  1.000407\n",
       "cbench-telecom-adpcm-d:adpcm-0017:                  1.000491\n",
       "cbench-telecom-adpcm-d:adpcm-0020:                  1.000305\n",
       "cbench-telecom-crc32:pcm-0001:                      0.998429\n",
       "cbench-telecom-crc32:pcm-0005:                      1.002180\n",
       "cbench-telecom-crc32:pcm-0009:                      0.998474\n",
       "cbench-telecom-crc32:pcm-0013:                      1.002181\n",
       "cbench-telecom-crc32:pcm-0017:                      1.002142\n",
       "cbench-telecom-crc32:pcm-0020:                      1.002345\n",
       "cbench-telecom-gsm:au-0001:                         1.005498\n",
       "cbench-telecom-gsm:au-0005:                         1.004027\n",
       "cbench-telecom-gsm:au-0009:                         1.005938\n",
       "cbench-telecom-gsm:au-0013:                         1.004220\n",
       "cbench-telecom-gsm:au-0017:                         1.007095\n",
       "cbench-telecom-gsm:au-0020:                         1.000129\n",
       "dtype: float64"
      ]
     },
     "execution_count": 15,
     "metadata": {},
     "output_type": "execute_result"
    }
   ],
   "source": [
    "speedup"
   ]
  },
  {
   "cell_type": "code",
   "execution_count": 16,
   "metadata": {},
   "outputs": [],
   "source": [
    "def shorten_cbench_program_name(s: str):\n",
    "    prefix = \"cbench-\"\n",
    "    if not s.startswith(prefix):\n",
    "        raise ValueError(\"Not a cbench program\")\n",
    "    return s[len(prefix):]"
   ]
  },
  {
   "cell_type": "code",
   "execution_count": 17,
   "metadata": {},
   "outputs": [],
   "source": [
    "s = speedup.rename(index=shorten_cbench_program_name).to_frame(\"Speedup\").style\n",
    "s.to_latex(\n",
    "    f\"table/online_speedup_learn.tex\",\n",
    "    hrules=True,\n",
    "    label=\"table:online-speedup-learn\",\n",
    "    caption=\"Speedup of online Fourier-sparse function learning over the best flags from randomly sampled training data\",\n",
    "    environment=\"longtable\")"
   ]
  },
  {
   "cell_type": "code",
   "execution_count": 18,
   "metadata": {},
   "outputs": [
    {
     "data": {
      "text/plain": [
       "(47, 59)"
      ]
     },
     "execution_count": 18,
     "metadata": {},
     "output_type": "execute_result"
    }
   ],
   "source": [
    "(speedup > 1.0).sum(), len(speedup)"
   ]
  }
 ],
 "metadata": {
  "kernelspec": {
   "display_name": "Python 3.9.7 ('base')",
   "language": "python",
   "name": "python3"
  },
  "language_info": {
   "codemirror_mode": {
    "name": "ipython",
    "version": 3
   },
   "file_extension": ".py",
   "mimetype": "text/x-python",
   "name": "python",
   "nbconvert_exporter": "python",
   "pygments_lexer": "ipython3",
   "version": "3.9.7"
  },
  "orig_nbformat": 4,
  "vscode": {
   "interpreter": {
    "hash": "fa658e60ef6a7b9b249dd17cf59d474856e42949519070ff24e17083b6259c34"
   }
  }
 },
 "nbformat": 4,
 "nbformat_minor": 2
}
